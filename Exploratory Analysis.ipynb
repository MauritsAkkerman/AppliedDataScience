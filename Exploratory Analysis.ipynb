{
 "cells": [
  {
   "cell_type": "markdown",
   "metadata": {},
   "source": [
    "# Exploratory Analysis\n",
    "### Notebook created by [Bright Cape](https://brightcape.nl/)\n",
    "*Author: Maurits Akkerman*"
   ]
  },
  {
   "cell_type": "markdown",
   "metadata": {},
   "source": [
    "This notebook is designed to provide you with an example of an exploratory analysis. It provides some of the steps you have seen in the notebook on [Data Cleaning & Visualization](https://colab.research.google.com/github/MauritsAkkerman/AppliedDataScience/blob/main/Data%20Cleaning%20%26%20Visualization.ipynb), but then on your own unique dataset! This exploratory analysis can be combined with the knowledge gained from the Applied Data Science Bootcamp to provide meaningfull insights into your data.\n",
    "\n",
    "# Contents <a name=\"Contents\"></a>\n",
    "\n",
    "* [Installing Key Package](#Installing-Key-Package)\n",
    "\n",
    "* [Upload your File](#Upload-your-File)\n",
    "\n",
    "* [Running the Exploratory Analysis](#Running-the-Exploratory-Analysis)\n",
    "\n",
    "\n",
    "# Installing Key Package<a name=\"Installing-Key-Package\"></a>\n",
    "Before you can upload your data, we need to install a package on Google Colab. Run the following lines of code:"
   ]
  },
  {
   "cell_type": "code",
   "execution_count": null,
   "metadata": {},
   "outputs": [],
   "source": [
    "# Instals the Pandas Profiling module necessary for the exploratory analysis\n",
    "! pip install https://github.com/pandas-profiling/pandas-profiling/archive/master.zip"
   ]
  },
  {
   "cell_type": "markdown",
   "metadata": {},
   "source": [
    "After you have succesfully installed this package, we need to restart the console. Proceed to execute the following steps:\n",
    "1. On the top of your screen click the Runtime tab\n",
    "2. Click on Restart Runtime (CTRL + M .)\n",
    "3. A message box will appear to ask if your sure, press \"YES\"\n",
    "Now you're set to proceed with the exploratory analysis"
   ]
  },
  {
   "cell_type": "markdown",
   "metadata": {},
   "source": [
    "# Upload your File<a name=\"Upload-your-File\"></a>\n",
    "[[ go back to the top ]](#Contents)"
   ]
  },
  {
   "cell_type": "markdown",
   "metadata": {},
   "source": [
    "Run the following code. After you have done so, you should be able to upload your own file, proceed to do so."
   ]
  },
  {
   "cell_type": "code",
   "execution_count": null,
   "metadata": {},
   "outputs": [],
   "source": [
    "from google.colab import files\n",
    "uploaded = files.upload()"
   ]
  },
  {
   "cell_type": "markdown",
   "metadata": {},
   "source": [
    "To check whether our upload was succesfull, we print the top lines of the dataframe."
   ]
  },
  {
   "cell_type": "code",
   "execution_count": null,
   "metadata": {},
   "outputs": [],
   "source": [
    "import io\n",
    "import pandas as pd\n",
    "\n",
    "for delim in [',', ';',' ',]:\n",
    "  data = pd.read_csv(io.StringIO(uploaded[list(uploaded.keys())[0]].decode('utf-8')), delimiter=delim, index_col=0)\n",
    "  if data.shape[1] != 0:\n",
    "    break\n",
    "\n",
    "data.head()"
   ]
  },
  {
   "cell_type": "markdown",
   "metadata": {},
   "source": [
    "# Running the Exploratory Analysis<a name=\"Running-the-Exploratory-Analysis\"></a>\n",
    "[[ go back to the top ]](#Contents)\n",
    "\n",
    "Now let's run the exploratory analysis, the code below uses a package called Pandas Profiling to extract key observations from your data, without requiring manual coding (or thus experience with coding). After running the code, you should see a progress bar and eventually you can interactively click through the results of the analysis."
   ]
  },
  {
   "cell_type": "code",
   "execution_count": null,
   "metadata": {},
   "outputs": [],
   "source": [
    "import pandas_profiling as ppf\n",
    "profile = ppf.ProfileReport(data, title= \"Pandas Profile\",\n",
    "                                html = { 'style' : { 'full_width' : True }},\n",
    "                                missing_diagrams={\n",
    "                                    'bar': True,\n",
    "                                    'matrix': True,\n",
    "                                    'heatmap': True,\n",
    "                                    'dendrogram': False},\n",
    "                                correlations = {'pearson' : {\n",
    "                                                    'calculate' : True,\n",
    "                                                    'warn_high_correlations' : True,\n",
    "                                                    'threshold' : 0.9\n",
    "                                                          },\n",
    "                                                'spearman': {\n",
    "                                                    'calculate': False,\n",
    "                                                    'warn_high_correlations': False\n",
    "                                                },\n",
    "                                                'phi_k' : {\n",
    "                                                    'calculate' : False,\n",
    "                                                    'warn_high_correlations' : False\n",
    "                                                          },\n",
    "                                                'cramers': {\n",
    "                                                    'calculate': False,\n",
    "                                                    'warn_high_correlations': False,\n",
    "                                                            },\n",
    "                                                'kendall': {\n",
    "                                                    'calculate': False,\n",
    "                                                    'warn_high_correlations': False\n",
    "                                                            }})\n",
    "profile.to_notebook_iframe()"
   ]
  },
  {
   "cell_type": "markdown",
   "metadata": {},
   "source": [
    "Write down which conclusions you can draw or interesting findings that you discovered based on the data. During the Applied Data Science Bootcamp we can then discuss these findings!"
   ]
  }
 ],
 "metadata": {
  "kernelspec": {
   "display_name": "Python 3",
   "language": "python",
   "name": "python3"
  },
  "language_info": {
   "codemirror_mode": {
    "name": "ipython",
    "version": 3
   },
   "file_extension": ".py",
   "mimetype": "text/x-python",
   "name": "python",
   "nbconvert_exporter": "python",
   "pygments_lexer": "ipython3",
   "version": "3.8.3"
  }
 },
 "nbformat": 4,
 "nbformat_minor": 4
}
