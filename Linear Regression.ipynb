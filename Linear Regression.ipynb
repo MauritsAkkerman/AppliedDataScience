{
 "cells": [
  {
   "cell_type": "markdown",
   "metadata": {
    "colab_type": "text",
    "id": "xXOVDpcgNEFO"
   },
   "source": [
    "# An Introduction to Linear Regression\n",
    "\n",
    "### Notebook created by [Bright Cape](https://brightcape.nl/)\n",
    "*Author: Maurits Akkerman, Youp Suurmeijer*"
   ]
  },
  {
   "cell_type": "markdown",
   "metadata": {
    "colab_type": "text",
    "id": "rafctkUTNEFP"
   },
   "source": [
    "# Contents <a name=\"Contents\"></a>\n",
    "\n",
    "* [Introduction](#Introduction)\n",
    "\n",
    "* [Step 1: Modelling (Linear Regression)](#Step-1:-Modelling-(Linear-Regression))\n",
    "    \n",
    "    - [Multiple Linear Regression](#1.1:-Multiple-Linear-Regression)\n",
    "    \n",
    "    - [Feature Selection and Model Comparison](#1.2:-Feature-Selection-and-Model-Comparison)\n",
    "\n",
    "* [Step 2: Deployment (Conclusion)](#Step-2:-Deployment-(Conclusion))\n"
   ]
  },
  {
   "cell_type": "markdown",
   "metadata": {},
   "source": [
    "## Introduction <a name=\"Introduction\"></a>\n",
    "\n",
    "[[ go back to the top ]](#Contents)\n",
    "\n",
    "This notebook builts upon the previous [notebook](https://colab.research.google.com/github/MauritsAkkerman/AppliedDataScience/blob/main/Data%20Cleaning%20%26%20Visualization.ipynb) in which we discussed the exploratory analysis, data cleaning, and data understanding.\n",
    "\n",
    "<img src=\"https://drive.google.com/uc?id=1yX1hvNeepHnm1O58voKm_qQultGcpNOy\" style=\"width: 800px;\" />\n",
    "\n",
    "In this notebook, the modelling phase is discussed. We focus on predicting a target variable through the use of **linear regression**. The final phase of deployment and subsequent customer acceptance is not executed, though conclusions and next steps are discussed.\n",
    "\n",
    "This notebook makes use of (a subset of) a public dataset of the Google Merchandise store. This is real-life data from Google Analytics and looks like something you might get from a company when asked to perform data science experiments using their webstore data. Note that therefore the examples might not always look as perfect as you might find in other online materials, but this is real-life data science, and you never get perfect data to start with.\n",
    "\n",
    "The concept of this notebook is similar to the previous notebook. This notebook also contains normal text with explanations and grey boxes with Python code. To run the Python code, you need to press the play button in the top left corner of the grey box. Again, sometimes you are requested to perform a simple action in order to run the Python code. Perform this action and then press the play button, otherwise the code does not work. If no action is stated, simply press the play button to run the code and move on.\n",
    "\n",
    "### Motivation\n",
    "This notebook is specifically focussed on linear regression modelling. But why are we learning linear regression? Because it is:\n",
    "- widely used\n",
    "- runs fast\n",
    "- easy to use (not a lot of tuning required)\n",
    "- highly interpretable\n",
    "- a basis for many other methods.\n",
    "\n",
    "### Import Required Libraries\n",
    "Let's start by importing the required libraries for this notebook."
   ]
  },
  {
   "cell_type": "code",
   "execution_count": null,
   "metadata": {},
   "outputs": [],
   "source": [
    "# Import the required libraries.\n",
    "import numpy as np\n",
    "import pandas as pd\n",
    "import matplotlib.pyplot as plt\n",
    "import seaborn as sns\n",
    "\n",
    "# And allow plots to appear directly in the notebook.\n",
    "%matplotlib inline"
   ]
  },
  {
   "cell_type": "markdown",
   "metadata": {},
   "source": [
    "### Import Cleaned Dataset\n",
    "Let's import the cleaned dataset of the previous notebook."
   ]
  },
  {
   "cell_type": "code",
   "execution_count": null,
   "metadata": {
    "colab": {
     "base_uri": "https://localhost:8080/",
     "height": 277
    },
    "colab_type": "code",
    "executionInfo": {
     "elapsed": 1650,
     "status": "ok",
     "timestamp": 1596538880979,
     "user": {
      "displayName": "Youp Suurmeijer",
      "photoUrl": "",
      "userId": "15518957955571416848"
     },
     "user_tz": -60
    },
    "id": "F7fxDQ0xNEFk",
    "outputId": "7af5d01b-5e91-4bc1-f656-c8848eb53f68"
   },
   "outputs": [],
   "source": [
    "# Download the data. \n",
    "# *Note you don't have to understand what happens in this bit of code.\n",
    "import requests\n",
    "from io import StringIO\n",
    "\n",
    "orig_url='https://drive.google.com/file/d/1SJWwLTX6lHKP13A-PudfRnuN7s-_5vxy/view?usp=sharing'\n",
    "dwn_url='https://drive.google.com/uc?export=download&id=' + orig_url.split('/')[-2]\n",
    "url = requests.get(dwn_url).text\n",
    "csv_raw = StringIO(url)\n",
    "\n",
    "# Read the data into a pandas data frame and show the first 5 rows.\n",
    "data = pd.read_csv(csv_raw, index_col=0, sep=',')\n",
    "data['date'] = pd.to_datetime(data['date'],  format='%Y-%m-%d', errors='coerce')\n",
    "data.head()"
   ]
  },
  {
   "cell_type": "markdown",
   "metadata": {
    "colab_type": "text",
    "id": "WjyhxKth8Xzg"
   },
   "source": [
    "# Step 1: Modelling (Linear Regression) <a name=\"Step-1:-Modelling-(Linear-Regression)\"></a>\n",
    "[[ go back to the top ]](#Contents)\n",
    "\n",
    "Simple linear regression is an approach used to predict a quantitative response by using a single feature (or \"predictor\" or \"input variable\"). It takes the following form:\n",
    "\n",
    "$ y = β_0 + β_1 \\cdot x$\n",
    "\n",
    "What does each term represent?\n",
    "\n",
    "- $y$ is the target (or dependent variable)\n",
    "- $x$ is the feature (or independent variable)\n",
    "- $β_0$ is the intercept\n",
    "- $β_1$ is the coefficient for x\n",
    "\n",
    "Together, $β_0$ and $β_1$ are called the model coefficients. To create your model, you must \"learn\" the values of these coefficients. And once we've learned these coefficients, we can use the model to predict Sales!"
   ]
  },
  {
   "cell_type": "markdown",
   "metadata": {
    "colab_type": "text",
    "id": "n_BnvvKE8Xzh"
   },
   "source": [
    "Let's use the library Statsmodels to estimate the model coefficients for the Google Analytics data."
   ]
  },
  {
   "cell_type": "code",
   "execution_count": null,
   "metadata": {
    "colab": {
     "base_uri": "https://localhost:8080/",
     "height": 66
    },
    "colab_type": "code",
    "executionInfo": {
     "elapsed": 11093,
     "status": "ok",
     "timestamp": 1596538890536,
     "user": {
      "displayName": "Youp Suurmeijer",
      "photoUrl": "",
      "userId": "15518957955571416848"
     },
     "user_tz": -60
    },
    "id": "oo6Byzrm8Xzh",
    "outputId": "fb3d49d0-cbf7-46bb-bec0-e9a6d2d32d2b"
   },
   "outputs": [],
   "source": [
    "# Import Statsmodels\n",
    "import statsmodels.formula.api as smf\n",
    "\n",
    "# Create a fitted model in one line using the ordinary least squares method.\n",
    "lm = smf.ols(formula='totalTransactionRevenue ~  pageviews', data=data).fit()\n",
    "\n",
    "# Print the coefficients\n",
    "lm.params"
   ]
  },
  {
   "cell_type": "markdown",
   "metadata": {
    "colab_type": "text",
    "id": "Q8GH9xBO8Xzk"
   },
   "source": [
    "### Interpreting Model Coefficients\n",
    "\n",
    "How do we interpret the 'pageviews' coefficient ($β_1$) of 2.19 shown above?\n",
    "\n",
    "- A \"unit\" increase in page views is associated with a 2.19 \"unit\" increase in totalTransactionRevenue.\n",
    "- Or more clearly: An additional page view results in 2.19 dollars extra revenue on average.\n",
    "\n",
    "Note that if an increase in page views was associated with a decrease in sales, $β_1$ would be negative."
   ]
  },
  {
   "cell_type": "markdown",
   "metadata": {
    "colab_type": "text",
    "id": "DTodHvYo8Xzl"
   },
   "source": [
    "### Using the Model for Prediction\n",
    "\n",
    "Let's say that we have a current customer on our website with already 10 page views, what would we predict for the Sales for that customer by using the coefficients found above?\n",
    "\n",
    "$y = β_0 + β_1 \\cdot x$\n",
    "\n",
    "\n",
    "$y = 2.38 + 2.19 \\cdot 10$\n"
   ]
  },
  {
   "cell_type": "code",
   "execution_count": null,
   "metadata": {
    "colab": {
     "base_uri": "https://localhost:8080/",
     "height": 33
    },
    "colab_type": "code",
    "executionInfo": {
     "elapsed": 11080,
     "status": "ok",
     "timestamp": 1596538890537,
     "user": {
      "displayName": "Youp Suurmeijer",
      "photoUrl": "",
      "userId": "15518957955571416848"
     },
     "user_tz": -60
    },
    "id": "0hsqw8K98Xzm",
    "outputId": "efceb2c9-8078-4291-ac40-88fa7ec4f85d"
   },
   "outputs": [],
   "source": [
    "# Manually calculate the prediction.\n",
    "# Remove the \"#\" from the line below and press the play button.\n",
    "#round(2.380982 + 2.191458 * 10,2)"
   ]
  },
  {
   "cell_type": "markdown",
   "metadata": {
    "colab_type": "text",
    "id": "VI_v8r0N8Xzq"
   },
   "source": [
    "Thus, we would predict Sales of $24.30 for that customer. \n",
    "\n",
    "----------------------------------------------\n",
    "----------------------------------------------\n",
    "\n",
    "We can draw more conclusions from these results, namely that the intercept is very high for webstore sales. The intercept of 2.38 means that even with zero pageviews a customer would spend $2.38 dollars. Since a webstore is known to have very low conversion percentages, in the range of 1%-5%, this high intercept is an unlikely result. The high intercept could be explained by several factors. First, outliers are still affecting the results of the linear regression. Second, the conversion rate of the customers in the dataset is much higher than the industry standard.\n",
    "\n",
    "The latter is the cause in this instance. The dataset provided is balanced, meaning the number of customers that bought an item is equal to the number of customers who did not buy anything. A balanced dataset can be usefull in certain scenario's but in this instance it gives a wrong representation of reality. Therefore, it would lead to the wrong conclusions.\n",
    "\n",
    "Once again, business and data understanding is critical to any data science project. Without those two, the conclusions drawn from modelling can be misleading.\n",
    "\n",
    "Nevertheless, we will continu to show how a linear regression model is created to provide an example of the general principles.\n",
    "\n",
    "----------------------------------------------\n",
    "----------------------------------------------\n",
    "\n",
    "In the Python code above we manually calculated the Sales for a customer with 10 pageviews, which resulted in 24.30 dollars.\n",
    "However, the Python package Statsmodels can also make this prediction itself."
   ]
  },
  {
   "cell_type": "code",
   "execution_count": null,
   "metadata": {
    "colab": {
     "base_uri": "https://localhost:8080/",
     "height": 76
    },
    "colab_type": "code",
    "executionInfo": {
     "elapsed": 11070,
     "status": "ok",
     "timestamp": 1596538890538,
     "user": {
      "displayName": "Youp Suurmeijer",
      "photoUrl": "",
      "userId": "15518957955571416848"
     },
     "user_tz": -60
    },
    "id": "AfhHJWXL8Xzr",
    "outputId": "0d9e9f6c-b56b-4b62-d53c-9551bd035c73"
   },
   "outputs": [],
   "source": [
    "# Set the value of pageviews to 10.\n",
    "X_new = pd.DataFrame({'pageviews': [10]})\n",
    "X_new.head()"
   ]
  },
  {
   "cell_type": "code",
   "execution_count": null,
   "metadata": {
    "colab": {
     "base_uri": "https://localhost:8080/",
     "height": 50
    },
    "colab_type": "code",
    "executionInfo": {
     "elapsed": 11059,
     "status": "ok",
     "timestamp": 1596538890538,
     "user": {
      "displayName": "Youp Suurmeijer",
      "photoUrl": "",
      "userId": "15518957955571416848"
     },
     "user_tz": -60
    },
    "id": "pgKtFP9k8Xzv",
    "outputId": "825c19d1-4e00-4055-ef18-8b88d8c6d735"
   },
   "outputs": [],
   "source": [
    "# Use the model to calculate the Sales prediction of this value.\n",
    "# Fill in the command \"lm.predict(X_new)\" without apostrophes in the line below and press the play button.\n"
   ]
  },
  {
   "cell_type": "markdown",
   "metadata": {},
   "source": [
    "As you can see, we do not have to calculate the Sales manually with the coefficients, but the Statsmodels package calculates the sales of 24.30 dollars for us."
   ]
  },
  {
   "cell_type": "markdown",
   "metadata": {
    "colab_type": "text",
    "id": "m0EEu57X8Xzy"
   },
   "source": [
    "### Plotting the Least Squares Line\n",
    "\n",
    "Let's make predictions for the smallest and largest observed values of pageviews, and then use the predicted values to plot the least-squares line:"
   ]
  },
  {
   "cell_type": "code",
   "execution_count": null,
   "metadata": {
    "colab": {
     "base_uri": "https://localhost:8080/",
     "height": 105
    },
    "colab_type": "code",
    "executionInfo": {
     "elapsed": 11048,
     "status": "ok",
     "timestamp": 1596538890539,
     "user": {
      "displayName": "Youp Suurmeijer",
      "photoUrl": "",
      "userId": "15518957955571416848"
     },
     "user_tz": -60
    },
    "id": "3oF4Rewo8Xzy",
    "outputId": "4b48a075-3da8-48cc-d94d-36166e59a388"
   },
   "outputs": [],
   "source": [
    "# Create a DataFrame with the minimum and maximum values of the feature \"pageviews\".\n",
    "X_new = pd.DataFrame({'pageviews': [data['pageviews'].min(), data['pageviews'].max()]})\n",
    "X_new.head()"
   ]
  },
  {
   "cell_type": "markdown",
   "metadata": {},
   "source": [
    "So, the minimum and maximum value of pageviews are respectively 1 and 89. "
   ]
  },
  {
   "cell_type": "code",
   "execution_count": null,
   "metadata": {
    "colab": {
     "base_uri": "https://localhost:8080/",
     "height": 66
    },
    "colab_type": "code",
    "executionInfo": {
     "elapsed": 11034,
     "status": "ok",
     "timestamp": 1596538890539,
     "user": {
      "displayName": "Youp Suurmeijer",
      "photoUrl": "",
      "userId": "15518957955571416848"
     },
     "user_tz": -60
    },
    "id": "bV-pmzGI8Xz0",
    "outputId": "d7c2b5b8-1a5b-46ed-9fc4-4ce9c968554d"
   },
   "outputs": [],
   "source": [
    "# Make predictions for those x values and store them by using the Statsmodels package.\n",
    "preds = lm.predict(X_new)\n",
    "preds"
   ]
  },
  {
   "cell_type": "code",
   "execution_count": null,
   "metadata": {
    "colab": {
     "base_uri": "https://localhost:8080/",
     "height": 306
    },
    "colab_type": "code",
    "executionInfo": {
     "elapsed": 11022,
     "status": "ok",
     "timestamp": 1596538890540,
     "user": {
      "displayName": "Youp Suurmeijer",
      "photoUrl": "",
      "userId": "15518957955571416848"
     },
     "user_tz": -60
    },
    "id": "mUJ43uLF8Xz2",
    "outputId": "9cebd922-b502-4cf5-c1da-51b5b6c086b9"
   },
   "outputs": [],
   "source": [
    "# First, plot the observed data.\n",
    "data.plot(kind='scatter', x='pageviews', y='totalTransactionRevenue')\n",
    "\n",
    "# Then, plot the least squares line.\n",
    "plt.plot(X_new, preds, c='red', linewidth=2);"
   ]
  },
  {
   "cell_type": "markdown",
   "metadata": {
    "colab_type": "text",
    "id": "VXEVvErt8Xz4"
   },
   "source": [
    "### How well does the model fit the data?\n",
    "\n",
    "The most common way to evaluate the overall fit of a linear model is by the R-squared value. R-squared is the proportion of variance explained, meaning the proportion of variance in the observed data that is explained by the model. R-squared is between 0 and 1, and higher is better because it means that more variance is explained by the model.\n",
    "\n",
    "Let's calculate the R-squared value for our simple linear model:\n"
   ]
  },
  {
   "cell_type": "code",
   "execution_count": null,
   "metadata": {
    "colab": {
     "base_uri": "https://localhost:8080/",
     "height": 33
    },
    "colab_type": "code",
    "executionInfo": {
     "elapsed": 11012,
     "status": "ok",
     "timestamp": 1596538890541,
     "user": {
      "displayName": "Youp Suurmeijer",
      "photoUrl": "",
      "userId": "15518957955571416848"
     },
     "user_tz": -60
    },
    "id": "cJQ_5qoR8Xz4",
    "outputId": "cd10902f-415a-4d29-fc78-49cfddac1e55"
   },
   "outputs": [],
   "source": [
    "# Calculate the R-squared value for our linear regression model.\n",
    "# Remove the \"#\" from the line below and press the play button.\n",
    "#round(lm.rsquared,4)"
   ]
  },
  {
   "cell_type": "markdown",
   "metadata": {
    "colab_type": "text",
    "id": "ZT7XJqgl8Xz6"
   },
   "source": [
    "The R-squared is 33.13%. Is that a \"good\" R-squared value? It's hard to say. The threshold for a good R-squared value depends widely on the domain. Therefore, it's mostly useful as a tool for comparing different models."
   ]
  },
  {
   "cell_type": "markdown",
   "metadata": {
    "colab_type": "text",
    "id": "soWATzos8Xz7"
   },
   "source": [
    "## 1.1: Multiple Linear Regression <a name=\"1.1:-Multiple-Linear-Regression\"></a>\n",
    "[[ go back to the top ]](#Contents)\n",
    "\n",
    "\n",
    "Simple linear regression can easily be extended to include multiple features. This is called multiple linear regression. So instead of only using the feature pageviews to predict the sales, we use multiple features:\n",
    "\n",
    "$y= β_0 + β_1 \\cdot x_1 + ... +  β_n \\cdot x_n$\n",
    "\n",
    "Each $x$ represents a different feature and each feature has its own coefficient. In this case:\n",
    "\n",
    "$y = β_0 + β_1 \\cdot$ visitNumber $ + β_2 \\cdot $ pageviews $ + β_3 \\cdot $ timeOnSite $ + β_4 \\cdot $ isMobile\n",
    "\n",
    "Let's make a multiple linear regression model in scikit-learn."
   ]
  },
  {
   "cell_type": "code",
   "execution_count": null,
   "metadata": {
    "colab": {
     "base_uri": "https://localhost:8080/",
     "height": 82
    },
    "colab_type": "code",
    "executionInfo": {
     "elapsed": 10998,
     "status": "ok",
     "timestamp": 1596538890542,
     "user": {
      "displayName": "Youp Suurmeijer",
      "photoUrl": "",
      "userId": "15518957955571416848"
     },
     "user_tz": -60
    },
    "id": "or5YS_Uf8Xz7",
    "outputId": "476158bc-dff8-4f1c-9c77-ffbc2aecfc27"
   },
   "outputs": [],
   "source": [
    "# Create x and y.\n",
    "from sklearn.model_selection import train_test_split\n",
    "\n",
    "# Create a Python list of feature names.\n",
    "feature_cols = [\"visitNumber\", \"pageviews\", \"timeOnSite\", \"isMobile\"]\n",
    "\n",
    "# Use the list to select a subset of the original DataFrame.\n",
    "all_inputs = data[feature_cols]\n",
    "all_labels = data[\"totalTransactionRevenue\"]\n",
    "\n",
    "(training_inputs,\n",
    " testing_inputs,\n",
    " training_classes,\n",
    " testing_classes) = train_test_split(all_inputs, all_labels, test_size=0.25, random_state=1)"
   ]
  },
  {
   "cell_type": "markdown",
   "metadata": {},
   "source": [
    "The last line shows the test size of the model is set to 25% (as test_size is set to 0.25). Thus, we have the remaining 75% of the data available to train our regression model, which is equal to 2415 rows of data. The remaining 805 rows are use to test the performance of the trained model."
   ]
  },
  {
   "cell_type": "code",
   "execution_count": null,
   "metadata": {
    "colab": {
     "base_uri": "https://localhost:8080/",
     "height": 50
    },
    "colab_type": "code",
    "executionInfo": {
     "elapsed": 10989,
     "status": "ok",
     "timestamp": 1596538890544,
     "user": {
      "displayName": "Youp Suurmeijer",
      "photoUrl": "",
      "userId": "15518957955571416848"
     },
     "user_tz": -60
    },
    "id": "DMVR9xCH8Xz9",
    "outputId": "51e6900b-59be-4003-95e4-3a8af7c6d82b"
   },
   "outputs": [],
   "source": [
    "# Follow the usual sklearn pattern: import, instantiate, fit.\n",
    "from sklearn.linear_model import LinearRegression\n",
    "lm = LinearRegression()\n",
    "lm.fit(training_inputs, training_classes)\n",
    "\n",
    "# Print intercept and coefficients.\n",
    "print(lm.intercept_)\n",
    "print(lm.coef_)"
   ]
  },
  {
   "cell_type": "markdown",
   "metadata": {},
   "source": [
    "So, the intercept of our multiple linear regression model is equal to -2.701 and the coefficients are 5.467, 1.884, 0.004 and -12.567."
   ]
  },
  {
   "cell_type": "code",
   "execution_count": null,
   "metadata": {
    "colab": {
     "base_uri": "https://localhost:8080/",
     "height": 82
    },
    "colab_type": "code",
    "executionInfo": {
     "elapsed": 10978,
     "status": "ok",
     "timestamp": 1596538890545,
     "user": {
      "displayName": "Youp Suurmeijer",
      "photoUrl": "",
      "userId": "15518957955571416848"
     },
     "user_tz": -60
    },
    "id": "8z3VB0AA8X0A",
    "outputId": "1caf3967-7ae3-4ab4-aff1-ac220b8cdd89"
   },
   "outputs": [],
   "source": [
    "# Pair the feature names with the coefficients we just printed to see which coefficient belongs to which feature.\n",
    "list(zip(feature_cols, lm.coef_))"
   ]
  },
  {
   "cell_type": "markdown",
   "metadata": {
    "colab_type": "text",
    "id": "VFllaVXo8X0B"
   },
   "source": [
    "So, the formula of our current multiple regression model looks like this:\n",
    "\n",
    "$y = -2.701 + 5.467 \\cdot $ visitNumber $ + 1.884 \\cdot $ pageviews $ + 0.004 \\cdot $ timeOnSite $ - 12.567 \\cdot $ isMobile\n",
    "\n",
    "How do we interpret the timeOnSite coefficient (0.004)?\n",
    "\n",
    "For a given amount of \"visitNumber\" and \"pageViews\", a \"unit\" increase in \"timeOnSite\" is associated with a 0.004 \"unit\" increase in Sales.\n",
    "\n",
    "Important note:\n",
    "This is a statement of association, not causation. If an increase in \"timeOnSite\" was associated with a decrease in sales, $\\beta_1$ would be negative."
   ]
  },
  {
   "cell_type": "code",
   "execution_count": null,
   "metadata": {
    "colab": {
     "base_uri": "https://localhost:8080/",
     "height": 33
    },
    "colab_type": "code",
    "executionInfo": {
     "elapsed": 10966,
     "status": "ok",
     "timestamp": 1596538890546,
     "user": {
      "displayName": "Youp Suurmeijer",
      "photoUrl": "",
      "userId": "15518957955571416848"
     },
     "user_tz": -60
    },
    "id": "5p2SKhCK8X0D",
    "outputId": "cf587ad1-c5cf-4f56-abf0-a70f2ba2720e"
   },
   "outputs": [],
   "source": [
    "# Calculate the R-squared of the multiple linear regression model.\n",
    "# Remove the \"#\" from the line below and press the play button.\n",
    "#round(lm.score(testing_inputs, testing_classes),4)"
   ]
  },
  {
   "cell_type": "markdown",
   "metadata": {
    "colab_type": "text",
    "id": "Foz38kI_8X0F"
   },
   "source": [
    "## 1.2: Feature Selection and Model Comparison <a name=\"1.2:-Feature-Selection-and-Model-Comparison\"></a>\n",
    "[[ go back to the top ]](#Contents)\n",
    "\n",
    "Which model gives us the best result, e.g. which combination of features provides the best response? \n",
    "\n",
    "In the multiple regression model above we used the four features visitNumber, pageViews, timeOnSite and isMobile to predict our sales. However, sometimes R-squared of the model increases if one of the features is removed.\n",
    "\n",
    "So, let's see. Does the independent variable timeOnSite belong in our model? In other words, does it improve the quality of our predictions, e.g. does it improve the R-Squared?\n",
    "\n",
    "Let's remove the feature timeOnSite in the feature_cols below and check the new R-Squared!"
   ]
  },
  {
   "cell_type": "code",
   "execution_count": null,
   "metadata": {
    "colab": {
     "base_uri": "https://localhost:8080/",
     "height": 33
    },
    "colab_type": "code",
    "executionInfo": {
     "elapsed": 533,
     "status": "ok",
     "timestamp": 1596539035172,
     "user": {
      "displayName": "Youp Suurmeijer",
      "photoUrl": "",
      "userId": "15518957955571416848"
     },
     "user_tz": -60
    },
    "id": "0GAX2AiQ8X0G",
    "outputId": "9fa67d0e-29c0-4a44-e1cf-fc17ac85ea23"
   },
   "outputs": [],
   "source": [
    "# Create a Python list of feature names, and remove the feature timeOnSite.\n",
    "feature_cols = ['pageviews', 'visitNumber', 'isMobile']\n",
    "\n",
    "# Use the list to select a subset of the original DataFrame.\n",
    "all_inputs = data[feature_cols]\n",
    "\n",
    "# Split into training and testing sets.\n",
    "(training_inputs,\n",
    " testing_inputs,\n",
    " training_classes,\n",
    " testing_classes) = train_test_split(all_inputs, all_labels, test_size=0.25, random_state=1)\n",
    "\n",
    "# Fit the model to the training data, e.g. learn the coefficients.\n",
    "lm.fit(training_inputs, training_classes)\n",
    "\n",
    "# Make predictions on the testing set.\n",
    "predictions = lm.predict(testing_inputs)\n",
    "\n",
    "# And finally, calculate the new R-Squared.\n",
    "round(lm.score(testing_inputs, testing_classes),4)"
   ]
  },
  {
   "cell_type": "markdown",
   "metadata": {},
   "source": [
    "We see that the new R-Squared value of the model without the feature timeOnSite is 0.3586. Let's stop here, and compare the three models we created so far. In reality you would also investigate how the R-Squared value changes for different combinations of the features."
   ]
  },
  {
   "cell_type": "markdown",
   "metadata": {},
   "source": [
    "### Comparing the Models\n",
    "Based on the R-Squared value we can now compare the three models we created in this notebook.\n",
    "\n",
    "1. Linear regression with independent variable: \"pageviews\", R-Squared: 0.3313\n",
    "3. Multiple linear regression with independent variables: \"pageviews\", \"visitNumber\", \"isMobile\", \"timeOnSite\", R-Squared: 0.3590\n",
    "3. Multiple linear regression with independent variables: \"pageviews\", \"visitNumber\", \"isMobile\", R-Squared: 0.3586\n",
    "\n",
    "The second model has the highest R-Squared and therefore is the preferred option. This example only shows three combinations of variables for multiple linear regression and serves as an example of feature selection. In reality multiple algorithms and concepts exists that structurally apply feature selection to find the best predicting set of variables. These methods are vital when considering tens or hunderds of different prediction variables."
   ]
  },
  {
   "cell_type": "markdown",
   "metadata": {
    "colab_type": "text",
    "id": "XhWv5zWiNEIF"
   },
   "source": [
    "# Step 2: Deployment (Conclusion) <a name=\"Step-2:-Deployment-(Conclusion)\"></a>\n",
    "\n",
    "[[ go back to the top ]](#Contents)\n",
    "\n",
    "As mentioned before, this notebook does not delve into the deployment phase. Though, we will revisit the original business case: \n",
    "\n",
    "> We're trying to predict the expected revenue (USD) from a webstore customer based on behavioral web statistics\n",
    "\n",
    "We have performed one cycle of the data science lifecycle and have made a multiple regression model based on the number of page views and on the time spent on the website. Our Model has an R-Squared of 0.3590, but is that sufficient? Remember:\n",
    "\n",
    "> Our company's Head of Data has no idea of the predictive power of our dataset but has told us to come up with a model with at least an R-squared of 0.6\n",
    "\n",
    "Hence, the current model does not suffice with the success metric defined. Therefore, in the next iteration we should look to:\n",
    "1. Include other variables, both from the current dataset as from other databases.\n",
    "2. Acquire new data, either to fill in missing data or to expand upon the current rows available.\n",
    "3. Try other modelling approaches.\n",
    "\n",
    "Due to the extensive reporting on the preprocessing steps undertaken, we can communicate these with stakeholders to improve the incoming data for future projects.\n",
    "\n",
    "\n",
    "### Machine learning notebook\n",
    "In the next notebook we will apply some machine learning algorithms to the same dataset to see if they can outperform multiple linear regression.\n",
    "\n",
    "* [Machine Learning Algorithms](https://colab.research.google.com/github/MauritsAkkerman/AppliedDataScience/blob/main/Machine%20Learning%20(Supervised%20Classification)%20Case.ipynb)\n",
    "    \n",
    "And if you want to look back at the data cleaning steps performed:\n",
    "\n",
    "* [Data Cleaning](https://colab.research.google.com/github/MauritsAkkerman/AppliedDataScience/blob/main/Data%20Cleaning%20%26%20Visualization.ipynb)"
   ]
  }
 ],
 "metadata": {
  "colab": {
   "collapsed_sections": [],
   "name": "Linear Regression.ipynb",
   "provenance": []
  },
  "kernelspec": {
   "display_name": "Python 3",
   "language": "python",
   "name": "python3"
  },
  "language_info": {
   "codemirror_mode": {
    "name": "ipython",
    "version": 3
   },
   "file_extension": ".py",
   "mimetype": "text/x-python",
   "name": "python",
   "nbconvert_exporter": "python",
   "pygments_lexer": "ipython3",
   "version": "3.8.3"
  }
 },
 "nbformat": 4,
 "nbformat_minor": 1
}
